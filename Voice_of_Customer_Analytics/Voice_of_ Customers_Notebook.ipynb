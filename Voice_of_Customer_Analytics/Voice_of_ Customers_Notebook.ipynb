{
  "nbformat": 4,
  "nbformat_minor": 0,
  "metadata": {
    "colab": {
      "name": "VoC-6310412016.ipynb",
      "provenance": [],
      "collapsed_sections": [],
      "toc_visible": true
    },
    "kernelspec": {
      "name": "python3",
      "display_name": "Python 3"
    },
    "language_info": {
      "name": "python"
    }
  },
  "cells": [
    {
      "cell_type": "markdown",
      "source": [
        "# **Voice of Customers**"
      ],
      "metadata": {
        "id": "292WMCUge2q2"
      }
    },
    {
      "cell_type": "markdown",
      "metadata": {
        "id": "WrQbd86APp-2"
      },
      "source": [
        "## **Step 0 - install and import dependencies**"
      ]
    },
    {
      "cell_type": "code",
      "metadata": {
        "id": "bF2rn-l5Rp4U"
      },
      "source": [
        "!pip install pythainlp\n",
        "!pip install tensorflow_text\n",
        "!pip install umap-learn"
      ],
      "execution_count": null,
      "outputs": []
    },
    {
      "cell_type": "code",
      "metadata": {
        "id": "7GvuznzISB-h"
      },
      "source": [
        "import numpy as np\n",
        "import pandas as pd\n",
        "import re\n",
        "\n",
        "import tensorflow as tf\n",
        "import tensorflow_hub as hub\n",
        "import tensorflow_text\n",
        "import umap\n",
        "\n",
        "from sklearn.cluster import KMeans\n",
        "import matplotlib.pyplot as plt\n",
        "\n",
        "from sklearn.cluster import AgglomerativeClustering\n",
        "from sklearn.neighbors import kneighbors_graph\n",
        "\n",
        "import pythainlp\n",
        "from pythainlp.corpus.common import thai_words\n",
        "from pythainlp.util import Trie\n",
        "import collections\n"
      ],
      "execution_count": 2,
      "outputs": []
    },
    {
      "cell_type": "code",
      "metadata": {
        "id": "fUq1dSYcS5yM"
      },
      "source": [
        "module_url = 'https://tfhub.dev/google/universal-sentence-encoder-multilingual/3' #'https://tfhub.dev/google/universal-sentence-encoder-multilingual/3' for a large model\n",
        "\n",
        "model = hub.load(module_url)"
      ],
      "execution_count": 3,
      "outputs": []
    },
    {
      "cell_type": "code",
      "metadata": {
        "id": "dZiaG3R4b6kN"
      },
      "source": [
        "df = pd.read_csv(\"Wongnai Reviews - Small.csv\")"
      ],
      "execution_count": 5,
      "outputs": []
    },
    {
      "cell_type": "code",
      "metadata": {
        "colab": {
          "base_uri": "https://localhost:8080/",
          "height": 206
        },
        "id": "gonSv6i4cVs1",
        "outputId": "44a39224-e257-4584-aef0-9b639dba5699"
      },
      "source": [
        "df.head()"
      ],
      "execution_count": 6,
      "outputs": [
        {
          "output_type": "execute_result",
          "data": {
            "text/html": [
              "\n",
              "  <div id=\"df-66cb1ea6-c1bf-4234-8618-9ffd9a208d05\">\n",
              "    <div class=\"colab-df-container\">\n",
              "      <div>\n",
              "<style scoped>\n",
              "    .dataframe tbody tr th:only-of-type {\n",
              "        vertical-align: middle;\n",
              "    }\n",
              "\n",
              "    .dataframe tbody tr th {\n",
              "        vertical-align: top;\n",
              "    }\n",
              "\n",
              "    .dataframe thead th {\n",
              "        text-align: right;\n",
              "    }\n",
              "</style>\n",
              "<table border=\"1\" class=\"dataframe\">\n",
              "  <thead>\n",
              "    <tr style=\"text-align: right;\">\n",
              "      <th></th>\n",
              "      <th>Review ID</th>\n",
              "      <th>Review</th>\n",
              "    </tr>\n",
              "  </thead>\n",
              "  <tbody>\n",
              "    <tr>\n",
              "      <th>0</th>\n",
              "      <td>1</td>\n",
              "      <td>เป็นคนที่ชอบทาน Macchiato เป็นประจำ มีวันนึงเด...</td>\n",
              "    </tr>\n",
              "    <tr>\n",
              "      <th>1</th>\n",
              "      <td>2</td>\n",
              "      <td>Art of Coffee Kasetsart เป็นร้านกาแฟรสชาติเยี่...</td>\n",
              "    </tr>\n",
              "    <tr>\n",
              "      <th>2</th>\n",
              "      <td>3</td>\n",
              "      <td>กวงทะเลเผา อาหารทะเลเค้าสดจริงๆเนื้อปูหวานไม่ค...</td>\n",
              "    </tr>\n",
              "    <tr>\n",
              "      <th>3</th>\n",
              "      <td>4</td>\n",
              "      <td>วันนี้มีโอกาสตื่นเช้าครับเลยถึงโอกาสออกมาหาอะไ...</td>\n",
              "    </tr>\n",
              "    <tr>\n",
              "      <th>4</th>\n",
              "      <td>5</td>\n",
              "      <td>ชอบมาทานร้านนี้ถ้าอยากกินอาหารเวียดนามใกล้บ้าน...</td>\n",
              "    </tr>\n",
              "  </tbody>\n",
              "</table>\n",
              "</div>\n",
              "      <button class=\"colab-df-convert\" onclick=\"convertToInteractive('df-66cb1ea6-c1bf-4234-8618-9ffd9a208d05')\"\n",
              "              title=\"Convert this dataframe to an interactive table.\"\n",
              "              style=\"display:none;\">\n",
              "        \n",
              "  <svg xmlns=\"http://www.w3.org/2000/svg\" height=\"24px\"viewBox=\"0 0 24 24\"\n",
              "       width=\"24px\">\n",
              "    <path d=\"M0 0h24v24H0V0z\" fill=\"none\"/>\n",
              "    <path d=\"M18.56 5.44l.94 2.06.94-2.06 2.06-.94-2.06-.94-.94-2.06-.94 2.06-2.06.94zm-11 1L8.5 8.5l.94-2.06 2.06-.94-2.06-.94L8.5 2.5l-.94 2.06-2.06.94zm10 10l.94 2.06.94-2.06 2.06-.94-2.06-.94-.94-2.06-.94 2.06-2.06.94z\"/><path d=\"M17.41 7.96l-1.37-1.37c-.4-.4-.92-.59-1.43-.59-.52 0-1.04.2-1.43.59L10.3 9.45l-7.72 7.72c-.78.78-.78 2.05 0 2.83L4 21.41c.39.39.9.59 1.41.59.51 0 1.02-.2 1.41-.59l7.78-7.78 2.81-2.81c.8-.78.8-2.07 0-2.86zM5.41 20L4 18.59l7.72-7.72 1.47 1.35L5.41 20z\"/>\n",
              "  </svg>\n",
              "      </button>\n",
              "      \n",
              "  <style>\n",
              "    .colab-df-container {\n",
              "      display:flex;\n",
              "      flex-wrap:wrap;\n",
              "      gap: 12px;\n",
              "    }\n",
              "\n",
              "    .colab-df-convert {\n",
              "      background-color: #E8F0FE;\n",
              "      border: none;\n",
              "      border-radius: 50%;\n",
              "      cursor: pointer;\n",
              "      display: none;\n",
              "      fill: #1967D2;\n",
              "      height: 32px;\n",
              "      padding: 0 0 0 0;\n",
              "      width: 32px;\n",
              "    }\n",
              "\n",
              "    .colab-df-convert:hover {\n",
              "      background-color: #E2EBFA;\n",
              "      box-shadow: 0px 1px 2px rgba(60, 64, 67, 0.3), 0px 1px 3px 1px rgba(60, 64, 67, 0.15);\n",
              "      fill: #174EA6;\n",
              "    }\n",
              "\n",
              "    [theme=dark] .colab-df-convert {\n",
              "      background-color: #3B4455;\n",
              "      fill: #D2E3FC;\n",
              "    }\n",
              "\n",
              "    [theme=dark] .colab-df-convert:hover {\n",
              "      background-color: #434B5C;\n",
              "      box-shadow: 0px 1px 3px 1px rgba(0, 0, 0, 0.15);\n",
              "      filter: drop-shadow(0px 1px 2px rgba(0, 0, 0, 0.3));\n",
              "      fill: #FFFFFF;\n",
              "    }\n",
              "  </style>\n",
              "\n",
              "      <script>\n",
              "        const buttonEl =\n",
              "          document.querySelector('#df-66cb1ea6-c1bf-4234-8618-9ffd9a208d05 button.colab-df-convert');\n",
              "        buttonEl.style.display =\n",
              "          google.colab.kernel.accessAllowed ? 'block' : 'none';\n",
              "\n",
              "        async function convertToInteractive(key) {\n",
              "          const element = document.querySelector('#df-66cb1ea6-c1bf-4234-8618-9ffd9a208d05');\n",
              "          const dataTable =\n",
              "            await google.colab.kernel.invokeFunction('convertToInteractive',\n",
              "                                                     [key], {});\n",
              "          if (!dataTable) return;\n",
              "\n",
              "          const docLinkHtml = 'Like what you see? Visit the ' +\n",
              "            '<a target=\"_blank\" href=https://colab.research.google.com/notebooks/data_table.ipynb>data table notebook</a>'\n",
              "            + ' to learn more about interactive tables.';\n",
              "          element.innerHTML = '';\n",
              "          dataTable['output_type'] = 'display_data';\n",
              "          await google.colab.output.renderOutput(dataTable, element);\n",
              "          const docLink = document.createElement('div');\n",
              "          docLink.innerHTML = docLinkHtml;\n",
              "          element.appendChild(docLink);\n",
              "        }\n",
              "      </script>\n",
              "    </div>\n",
              "  </div>\n",
              "  "
            ],
            "text/plain": [
              "   Review ID                                             Review\n",
              "0          1  เป็นคนที่ชอบทาน Macchiato เป็นประจำ มีวันนึงเด...\n",
              "1          2  Art of Coffee Kasetsart เป็นร้านกาแฟรสชาติเยี่...\n",
              "2          3  กวงทะเลเผา อาหารทะเลเค้าสดจริงๆเนื้อปูหวานไม่ค...\n",
              "3          4  วันนี้มีโอกาสตื่นเช้าครับเลยถึงโอกาสออกมาหาอะไ...\n",
              "4          5  ชอบมาทานร้านนี้ถ้าอยากกินอาหารเวียดนามใกล้บ้าน..."
            ]
          },
          "metadata": {},
          "execution_count": 6
        }
      ]
    },
    {
      "cell_type": "markdown",
      "metadata": {
        "id": "Oowl7VYeP3gK"
      },
      "source": [
        "## **Step 1 - document embedding and dimension reduction**"
      ]
    },
    {
      "cell_type": "code",
      "metadata": {
        "colab": {
          "base_uri": "https://localhost:8080/"
        },
        "id": "e29WZmM4cCOS",
        "outputId": "7719b712-5800-4abd-d1b0-b59ad8727778"
      },
      "source": [
        "#embed sentences using Universal Sentence Encoder (USE)\n",
        "\n",
        "embed_comments_array = model(df['Review'].values).numpy()\n",
        "embed_comments_array"
      ],
      "execution_count": 7,
      "outputs": [
        {
          "output_type": "execute_result",
          "data": {
            "text/plain": [
              "array([[ 0.08993827,  0.01941084,  0.03787038, ..., -0.03488849,\n",
              "         0.06299512,  0.04635989],\n",
              "       [ 0.00634244,  0.00814594,  0.03071941, ..., -0.01478723,\n",
              "        -0.03080936, -0.03316405],\n",
              "       [ 0.0633687 , -0.02027139, -0.05077003, ..., -0.06530775,\n",
              "        -0.00952999, -0.03439987],\n",
              "       ...,\n",
              "       [ 0.08775924,  0.03609736,  0.01263062, ..., -0.03102781,\n",
              "        -0.03361677,  0.01928871],\n",
              "       [ 0.05691195,  0.05381691, -0.0399575 , ..., -0.06598807,\n",
              "        -0.05390478, -0.01037725],\n",
              "       [ 0.0777048 ,  0.05080631,  0.02680681, ..., -0.0061413 ,\n",
              "        -0.01313567,  0.02236264]], dtype=float32)"
            ]
          },
          "metadata": {},
          "execution_count": 7
        }
      ]
    },
    {
      "cell_type": "code",
      "metadata": {
        "id": "5gps1fE8ctMQ",
        "colab": {
          "base_uri": "https://localhost:8080/"
        },
        "outputId": "1c064eb9-05a4-4305-eca5-a90c1996d376"
      },
      "source": [
        "#reduce array dimensions using umap (you can chagne n_components)\n",
        "\n",
        "reducer = umap.UMAP(random_state=42,n_components=40)\n",
        "umap_embed_comments_array = reducer.fit_transform(embed_comments_array)"
      ],
      "execution_count": 8,
      "outputs": [
        {
          "output_type": "stream",
          "name": "stderr",
          "text": [
            "/usr/local/lib/python3.7/dist-packages/numba/np/ufunc/parallel.py:363: NumbaWarning: The TBB threading layer requires TBB version 2019.5 or later i.e., TBB_INTERFACE_VERSION >= 11005. Found TBB_INTERFACE_VERSION = 9107. The TBB threading layer is disabled.\n",
            "  warnings.warn(problem)\n"
          ]
        }
      ]
    },
    {
      "cell_type": "markdown",
      "metadata": {
        "id": "s5qq2RQlQJbV"
      },
      "source": [
        "## **Step 2 - document clustering using KMeans**"
      ]
    },
    {
      "cell_type": "code",
      "metadata": {
        "colab": {
          "base_uri": "https://localhost:8080/",
          "height": 312
        },
        "id": "2IkMb1UIF3k5",
        "outputId": "4c590e8b-046a-4347-997c-92e78db82ca7"
      },
      "source": [
        "#run kmeans with various number of k. evaluate no. of k based on the elbow plot\n",
        "\n",
        "wcss=[]\n",
        "max_k = 10\n",
        "for i in range(1, max_k):\n",
        "  kmeans = KMeans(i)\n",
        "  kmeans.fit(umap_embed_comments_array)\n",
        "  wcss_iter = kmeans.inertia_\n",
        "  wcss.append(wcss_iter)\n",
        "\n",
        "number_clusters = range(1, max_k)\n",
        "plt.plot(number_clusters,wcss)\n",
        "plt.title('The Elbow title')\n",
        "plt.xlabel('Number of clusters')\n",
        "plt.ylabel('WCSS')"
      ],
      "execution_count": 9,
      "outputs": [
        {
          "output_type": "execute_result",
          "data": {
            "text/plain": [
              "Text(0, 0.5, 'WCSS')"
            ]
          },
          "metadata": {},
          "execution_count": 9
        },
        {
          "output_type": "display_data",
          "data": {
            "image/png": "[encoded data removed]",
            "text/plain": [
              "<Figure size 432x288 with 1 Axes>"
            ]
          },
          "metadata": {
            "needs_background": "light"
          }
        }
      ]
    },
    {
      "cell_type": "code",
      "metadata": {
        "id": "1o0czkMVdSJ5"
      },
      "source": [
        "#run kmeans with no. of clusters you see fit the most\n",
        "\n",
        "k = 3\n",
        "\n",
        "kmeans = KMeans(n_clusters = k)\n",
        "kmeans.fit(umap_embed_comments_array)\n",
        "\n",
        "df['KMeans ID'] = kmeans.labels_"
      ],
      "execution_count": 10,
      "outputs": []
    },
    {
      "cell_type": "code",
      "metadata": {
        "id": "bf3R2QBr3oOq"
      },
      "source": [
        "#merge all reviews of each cluster into one big sentence \n",
        "\n",
        "df_kmeans = pd.DataFrame(columns=[\"KMeans ID\", \"texts\"])\n",
        "\n",
        "\n",
        "for i in range(0, k):\n",
        "  row = []\n",
        "  row.append(i)\n",
        "  row.append(df['Review'][df['KMeans ID'] == i].to_string())\n",
        "  df_kmeans.loc[len(df_kmeans)] = row"
      ],
      "execution_count": 11,
      "outputs": []
    },
    {
      "cell_type": "code",
      "metadata": {
        "colab": {
          "base_uri": "https://localhost:8080/",
          "height": 143
        },
        "id": "UFo_nqQEL08U",
        "outputId": "8be8ae58-f46f-409b-bc8b-fcfb7c4a5b78"
      },
      "source": [
        "df_kmeans"
      ],
      "execution_count": 12,
      "outputs": [
        {
          "output_type": "execute_result",
          "data": {
            "text/html": [
              "\n",
              "  <div id=\"df-6179b36e-409e-4f7a-8f54-4ac5e2b39cb0\">\n",
              "    <div class=\"colab-df-container\">\n",
              "      <div>\n",
              "<style scoped>\n",
              "    .dataframe tbody tr th:only-of-type {\n",
              "        vertical-align: middle;\n",
              "    }\n",
              "\n",
              "    .dataframe tbody tr th {\n",
              "        vertical-align: top;\n",
              "    }\n",
              "\n",
              "    .dataframe thead th {\n",
              "        text-align: right;\n",
              "    }\n",
              "</style>\n",
              "<table border=\"1\" class=\"dataframe\">\n",
              "  <thead>\n",
              "    <tr style=\"text-align: right;\">\n",
              "      <th></th>\n",
              "      <th>KMeans ID</th>\n",
              "      <th>texts</th>\n",
              "    </tr>\n",
              "  </thead>\n",
              "  <tbody>\n",
              "    <tr>\n",
              "      <th>0</th>\n",
              "      <td>0</td>\n",
              "      <td>2      กวงทะเลเผา อาหารทะเลเค้าสดจริงๆเนื้อปูห...</td>\n",
              "    </tr>\n",
              "    <tr>\n",
              "      <th>1</th>\n",
              "      <td>1</td>\n",
              "      <td>0      เป็นคนที่ชอบทาน Macchiato เป็นประจำ มีว...</td>\n",
              "    </tr>\n",
              "    <tr>\n",
              "      <th>2</th>\n",
              "      <td>2</td>\n",
              "      <td>13     เคยเป็นไหมกันไหมคะ หลังอาหารมื้อใหญ่ ต่...</td>\n",
              "    </tr>\n",
              "  </tbody>\n",
              "</table>\n",
              "</div>\n",
              "      <button class=\"colab-df-convert\" onclick=\"convertToInteractive('df-6179b36e-409e-4f7a-8f54-4ac5e2b39cb0')\"\n",
              "              title=\"Convert this dataframe to an interactive table.\"\n",
              "              style=\"display:none;\">\n",
              "        \n",
              "  <svg xmlns=\"http://www.w3.org/2000/svg\" height=\"24px\"viewBox=\"0 0 24 24\"\n",
              "       width=\"24px\">\n",
              "    <path d=\"M0 0h24v24H0V0z\" fill=\"none\"/>\n",
              "    <path d=\"M18.56 5.44l.94 2.06.94-2.06 2.06-.94-2.06-.94-.94-2.06-.94 2.06-2.06.94zm-11 1L8.5 8.5l.94-2.06 2.06-.94-2.06-.94L8.5 2.5l-.94 2.06-2.06.94zm10 10l.94 2.06.94-2.06 2.06-.94-2.06-.94-.94-2.06-.94 2.06-2.06.94z\"/><path d=\"M17.41 7.96l-1.37-1.37c-.4-.4-.92-.59-1.43-.59-.52 0-1.04.2-1.43.59L10.3 9.45l-7.72 7.72c-.78.78-.78 2.05 0 2.83L4 21.41c.39.39.9.59 1.41.59.51 0 1.02-.2 1.41-.59l7.78-7.78 2.81-2.81c.8-.78.8-2.07 0-2.86zM5.41 20L4 18.59l7.72-7.72 1.47 1.35L5.41 20z\"/>\n",
              "  </svg>\n",
              "      </button>\n",
              "      \n",
              "  <style>\n",
              "    .colab-df-container {\n",
              "      display:flex;\n",
              "      flex-wrap:wrap;\n",
              "      gap: 12px;\n",
              "    }\n",
              "\n",
              "    .colab-df-convert {\n",
              "      background-color: #E8F0FE;\n",
              "      border: none;\n",
              "      border-radius: 50%;\n",
              "      cursor: pointer;\n",
              "      display: none;\n",
              "      fill: #1967D2;\n",
              "      height: 32px;\n",
              "      padding: 0 0 0 0;\n",
              "      width: 32px;\n",
              "    }\n",
              "\n",
              "    .colab-df-convert:hover {\n",
              "      background-color: #E2EBFA;\n",
              "      box-shadow: 0px 1px 2px rgba(60, 64, 67, 0.3), 0px 1px 3px 1px rgba(60, 64, 67, 0.15);\n",
              "      fill: #174EA6;\n",
              "    }\n",
              "\n",
              "    [theme=dark] .colab-df-convert {\n",
              "      background-color: #3B4455;\n",
              "      fill: #D2E3FC;\n",
              "    }\n",
              "\n",
              "    [theme=dark] .colab-df-convert:hover {\n",
              "      background-color: #434B5C;\n",
              "      box-shadow: 0px 1px 3px 1px rgba(0, 0, 0, 0.15);\n",
              "      filter: drop-shadow(0px 1px 2px rgba(0, 0, 0, 0.3));\n",
              "      fill: #FFFFFF;\n",
              "    }\n",
              "  </style>\n",
              "\n",
              "      <script>\n",
              "        const buttonEl =\n",
              "          document.querySelector('#df-6179b36e-409e-4f7a-8f54-4ac5e2b39cb0 button.colab-df-convert');\n",
              "        buttonEl.style.display =\n",
              "          google.colab.kernel.accessAllowed ? 'block' : 'none';\n",
              "\n",
              "        async function convertToInteractive(key) {\n",
              "          const element = document.querySelector('#df-6179b36e-409e-4f7a-8f54-4ac5e2b39cb0');\n",
              "          const dataTable =\n",
              "            await google.colab.kernel.invokeFunction('convertToInteractive',\n",
              "                                                     [key], {});\n",
              "          if (!dataTable) return;\n",
              "\n",
              "          const docLinkHtml = 'Like what you see? Visit the ' +\n",
              "            '<a target=\"_blank\" href=https://colab.research.google.com/notebooks/data_table.ipynb>data table notebook</a>'\n",
              "            + ' to learn more about interactive tables.';\n",
              "          element.innerHTML = '';\n",
              "          dataTable['output_type'] = 'display_data';\n",
              "          await google.colab.output.renderOutput(dataTable, element);\n",
              "          const docLink = document.createElement('div');\n",
              "          docLink.innerHTML = docLinkHtml;\n",
              "          element.appendChild(docLink);\n",
              "        }\n",
              "      </script>\n",
              "    </div>\n",
              "  </div>\n",
              "  "
            ],
            "text/plain": [
              "  KMeans ID                                              texts\n",
              "0         0  2      กวงทะเลเผา อาหารทะเลเค้าสดจริงๆเนื้อปูห...\n",
              "1         1  0      เป็นคนที่ชอบทาน Macchiato เป็นประจำ มีว...\n",
              "2         2  13     เคยเป็นไหมกันไหมคะ หลังอาหารมื้อใหญ่ ต่..."
            ]
          },
          "metadata": {},
          "execution_count": 12
        }
      ]
    },
    {
      "cell_type": "code",
      "metadata": {
        "id": "JydvwIz5NcaI"
      },
      "source": [
        "#create regex compiler for removal of a character you don't want\n",
        "\n",
        "special_characters = \"/[!@#$%^&*']/g\"\n",
        "\n",
        "specialchar_pattern = re.compile(special_characters)"
      ],
      "execution_count": 13,
      "outputs": []
    },
    {
      "cell_type": "code",
      "metadata": {
        "id": "R8ymEA_2EhGi"
      },
      "source": [
        "#create regex compiler for removal of any emoji\n",
        "\n",
        "emoji_pattern = re.compile(\"[\"\n",
        "        u\"\\U0001F600-\\U0001F64F\"  # emoticons\n",
        "        u\"\\U0001F300-\\U0001F5FF\"  # symbols & pictographs\n",
        "        u\"\\U0001F680-\\U0001F6FF\"  # transport & map symbols\n",
        "        u\"\\U0001F1E0-\\U0001F1FF\"  # flags (iOS)\n",
        "                           \"]+\", flags=re.UNICODE)"
      ],
      "execution_count": 14,
      "outputs": []
    },
    {
      "cell_type": "code",
      "metadata": {
        "id": "9Q93YKJZK5ak"
      },
      "source": [
        "#create regex compiler for removal of digit\n",
        "\n",
        "number_pattern = re.compile(\"[0-9]\")"
      ],
      "execution_count": 15,
      "outputs": []
    },
    {
      "cell_type": "code",
      "metadata": {
        "id": "sHZ0HKlXNeSi"
      },
      "source": [
        "#create regex compiler for removal of white space\n",
        "\n",
        "space_pattern = re.compile(\"\\s+\")"
      ],
      "execution_count": 16,
      "outputs": []
    },
    {
      "cell_type": "code",
      "metadata": {
        "id": "-orHzqLkNupd"
      },
      "source": [
        "#create regex compiler for removal of .\n",
        "\n",
        "dot_pattern = re.compile(r\"\\.+\")"
      ],
      "execution_count": 17,
      "outputs": []
    },
    {
      "cell_type": "code",
      "metadata": {
        "id": "v7bW9th9N7oG"
      },
      "source": [
        "#create regex compiler for removal of \\\n",
        "\n",
        "backslash_pattern = re.compile(r\"\\\\+\")"
      ],
      "execution_count": 18,
      "outputs": []
    },
    {
      "cell_type": "code",
      "metadata": {
        "id": "ZGVvQhZz4tGs"
      },
      "source": [
        "#define a function to tokenize a sentence into words - you can define words you want to remove as well as new words for tokenization\n",
        "\n",
        "stopwords = list(pythainlp.corpus.thai_stopwords())\n",
        "removed_words = ['u', 'b', 'n', 'nn', 'nn-', '\\n', 'ร้าน','ร้า','กิน','ทาน','ดิฉัน','ชอบ','ไหม','ราคา','อร่อย','รีวิว','กก','าน','ผม','ศ']\n",
        "screening_words = stopwords + removed_words\n",
        "\n",
        "new_words = {\"สตารบัก\",'ชานมไข่มุก','ชานม','ชานมไต้หวัน','ซีฟู๊ด'}\n",
        "\n",
        "words = new_words.union(thai_words())\n",
        "\n",
        "custom_dictionary_trie = Trie(words)\n",
        "\n",
        "def tokenize_to_list(sentence):\n",
        "  merged = []\n",
        "  words = pythainlp.word_tokenize(str(sentence), engine='newmm', custom_dict=custom_dictionary_trie)\n",
        "  for word in words:\n",
        "    if word not in screening_words:\n",
        "      merged.append(word)\n",
        "  return merged"
      ],
      "execution_count": 19,
      "outputs": []
    },
    {
      "cell_type": "code",
      "metadata": {
        "id": "MnN1ekEoL9ug"
      },
      "source": [
        "#clean and tokenize sentences. count the occurences of each word\n",
        "\n",
        "df_kmeans['texts'] = df_kmeans['texts'].apply(lambda x: emoji_pattern.sub(r'', x))\n",
        "df_kmeans['texts'] = df_kmeans['texts'].apply(lambda x: specialchar_pattern.sub(r'', x))\n",
        "df_kmeans['texts'] = df_kmeans['texts'].apply(lambda x: number_pattern.sub(r'', x))\n",
        "df_kmeans['texts'] = df_kmeans['texts'].apply(lambda x: space_pattern.sub(r'', x))\n",
        "df_kmeans['texts'] = df_kmeans['texts'].apply(lambda x: dot_pattern.sub(r'', x))\n",
        "df_kmeans['texts'] = df_kmeans['texts'].apply(lambda x: backslash_pattern.sub(r'', x))\n",
        "df_kmeans['texts_tokenized'] = df_kmeans['texts'].apply(lambda x: tokenize_to_list(x))\n",
        "df_kmeans['texts_count'] = df_kmeans['texts_tokenized'].apply(lambda x: collections.Counter(x).most_common())"
      ],
      "execution_count": 20,
      "outputs": []
    },
    {
      "cell_type": "code",
      "metadata": {
        "colab": {
          "base_uri": "https://localhost:8080/",
          "height": 143
        },
        "id": "G0jG1yO889B2",
        "outputId": "6b61c43a-127e-48df-d922-9ce9905b4be2"
      },
      "source": [
        "#results of tokenization\n",
        "\n",
        "df_kmeans"
      ],
      "execution_count": 21,
      "outputs": [
        {
          "output_type": "execute_result",
          "data": {
            "text/html": [
              "\n",
              "  <div id=\"df-e183cea9-6846-4ab0-8a9c-6ef9f87a91bb\">\n",
              "    <div class=\"colab-df-container\">\n",
              "      <div>\n",
              "<style scoped>\n",
              "    .dataframe tbody tr th:only-of-type {\n",
              "        vertical-align: middle;\n",
              "    }\n",
              "\n",
              "    .dataframe tbody tr th {\n",
              "        vertical-align: top;\n",
              "    }\n",
              "\n",
              "    .dataframe thead th {\n",
              "        text-align: right;\n",
              "    }\n",
              "</style>\n",
              "<table border=\"1\" class=\"dataframe\">\n",
              "  <thead>\n",
              "    <tr style=\"text-align: right;\">\n",
              "      <th></th>\n",
              "      <th>KMeans ID</th>\n",
              "      <th>texts</th>\n",
              "      <th>texts_tokenized</th>\n",
              "      <th>texts_count</th>\n",
              "    </tr>\n",
              "  </thead>\n",
              "  <tbody>\n",
              "    <tr>\n",
              "      <th>0</th>\n",
              "      <td>0</td>\n",
              "      <td>กวงทะเลเผาอาหารทะเลเค้าสดจริงๆเนื้อปูหวานไม่คว...</td>\n",
              "      <td>[กวง, ทะเล, เผา, อาหารทะเล, เค้า, สด, เนื้อ, ป...</td>\n",
              "      <td>[(ร้านอาหาร, 14), (อาหาร, 10), (บ้าน, 6), (ส้ม...</td>\n",
              "    </tr>\n",
              "    <tr>\n",
              "      <th>1</th>\n",
              "      <td>1</td>\n",
              "      <td>เป็นคนที่ชอบทานMacchiatoเป็นประจำมีวันนึงเดArt...</td>\n",
              "      <td>[คน, Macchiato, เป็นประจำ, นึง, เด, ArtofCoffe...</td>\n",
              "      <td>[(ร้านกาแฟ, 25), (กาแฟ, 23), (คาเฟ่, 6), (น, 6...</td>\n",
              "    </tr>\n",
              "    <tr>\n",
              "      <th>2</th>\n",
              "      <td>2</td>\n",
              "      <td>เคยเป็นไหมกันไหมคะหลังอาหารมื้อใหญ่ต่อให้อิ่เช...</td>\n",
              "      <td>[หลังอาหาร, มื้อ, ต่อให้, อิ่, เช้า, บ่าย, เย็...</td>\n",
              "      <td>[(ชานมไข่มุก, 9), (ชา, 7), (ไข่มุก, 5), (เครื่...</td>\n",
              "    </tr>\n",
              "  </tbody>\n",
              "</table>\n",
              "</div>\n",
              "      <button class=\"colab-df-convert\" onclick=\"convertToInteractive('df-e183cea9-6846-4ab0-8a9c-6ef9f87a91bb')\"\n",
              "              title=\"Convert this dataframe to an interactive table.\"\n",
              "              style=\"display:none;\">\n",
              "        \n",
              "  <svg xmlns=\"http://www.w3.org/2000/svg\" height=\"24px\"viewBox=\"0 0 24 24\"\n",
              "       width=\"24px\">\n",
              "    <path d=\"M0 0h24v24H0V0z\" fill=\"none\"/>\n",
              "    <path d=\"M18.56 5.44l.94 2.06.94-2.06 2.06-.94-2.06-.94-.94-2.06-.94 2.06-2.06.94zm-11 1L8.5 8.5l.94-2.06 2.06-.94-2.06-.94L8.5 2.5l-.94 2.06-2.06.94zm10 10l.94 2.06.94-2.06 2.06-.94-2.06-.94-.94-2.06-.94 2.06-2.06.94z\"/><path d=\"M17.41 7.96l-1.37-1.37c-.4-.4-.92-.59-1.43-.59-.52 0-1.04.2-1.43.59L10.3 9.45l-7.72 7.72c-.78.78-.78 2.05 0 2.83L4 21.41c.39.39.9.59 1.41.59.51 0 1.02-.2 1.41-.59l7.78-7.78 2.81-2.81c.8-.78.8-2.07 0-2.86zM5.41 20L4 18.59l7.72-7.72 1.47 1.35L5.41 20z\"/>\n",
              "  </svg>\n",
              "      </button>\n",
              "      \n",
              "  <style>\n",
              "    .colab-df-container {\n",
              "      display:flex;\n",
              "      flex-wrap:wrap;\n",
              "      gap: 12px;\n",
              "    }\n",
              "\n",
              "    .colab-df-convert {\n",
              "      background-color: #E8F0FE;\n",
              "      border: none;\n",
              "      border-radius: 50%;\n",
              "      cursor: pointer;\n",
              "      display: none;\n",
              "      fill: #1967D2;\n",
              "      height: 32px;\n",
              "      padding: 0 0 0 0;\n",
              "      width: 32px;\n",
              "    }\n",
              "\n",
              "    .colab-df-convert:hover {\n",
              "      background-color: #E2EBFA;\n",
              "      box-shadow: 0px 1px 2px rgba(60, 64, 67, 0.3), 0px 1px 3px 1px rgba(60, 64, 67, 0.15);\n",
              "      fill: #174EA6;\n",
              "    }\n",
              "\n",
              "    [theme=dark] .colab-df-convert {\n",
              "      background-color: #3B4455;\n",
              "      fill: #D2E3FC;\n",
              "    }\n",
              "\n",
              "    [theme=dark] .colab-df-convert:hover {\n",
              "      background-color: #434B5C;\n",
              "      box-shadow: 0px 1px 3px 1px rgba(0, 0, 0, 0.15);\n",
              "      filter: drop-shadow(0px 1px 2px rgba(0, 0, 0, 0.3));\n",
              "      fill: #FFFFFF;\n",
              "    }\n",
              "  </style>\n",
              "\n",
              "      <script>\n",
              "        const buttonEl =\n",
              "          document.querySelector('#df-e183cea9-6846-4ab0-8a9c-6ef9f87a91bb button.colab-df-convert');\n",
              "        buttonEl.style.display =\n",
              "          google.colab.kernel.accessAllowed ? 'block' : 'none';\n",
              "\n",
              "        async function convertToInteractive(key) {\n",
              "          const element = document.querySelector('#df-e183cea9-6846-4ab0-8a9c-6ef9f87a91bb');\n",
              "          const dataTable =\n",
              "            await google.colab.kernel.invokeFunction('convertToInteractive',\n",
              "                                                     [key], {});\n",
              "          if (!dataTable) return;\n",
              "\n",
              "          const docLinkHtml = 'Like what you see? Visit the ' +\n",
              "            '<a target=\"_blank\" href=https://colab.research.google.com/notebooks/data_table.ipynb>data table notebook</a>'\n",
              "            + ' to learn more about interactive tables.';\n",
              "          element.innerHTML = '';\n",
              "          dataTable['output_type'] = 'display_data';\n",
              "          await google.colab.output.renderOutput(dataTable, element);\n",
              "          const docLink = document.createElement('div');\n",
              "          docLink.innerHTML = docLinkHtml;\n",
              "          element.appendChild(docLink);\n",
              "        }\n",
              "      </script>\n",
              "    </div>\n",
              "  </div>\n",
              "  "
            ],
            "text/plain": [
              "  KMeans ID  ...                                        texts_count\n",
              "0         0  ...  [(ร้านอาหาร, 14), (อาหาร, 10), (บ้าน, 6), (ส้ม...\n",
              "1         1  ...  [(ร้านกาแฟ, 25), (กาแฟ, 23), (คาเฟ่, 6), (น, 6...\n",
              "2         2  ...  [(ชานมไข่มุก, 9), (ชา, 7), (ไข่มุก, 5), (เครื่...\n",
              "\n",
              "[3 rows x 4 columns]"
            ]
          },
          "metadata": {},
          "execution_count": 21
        }
      ]
    },
    {
      "cell_type": "code",
      "metadata": {
        "colab": {
          "base_uri": "https://localhost:8080/"
        },
        "id": "n0LZ5H8_Dqvn",
        "outputId": "fd77b122-8d83-45a2-a9fc-783998d3baa7"
      },
      "source": [
        "#show top keywords of each cluster\n",
        "\n",
        "top_N_words = 10\n",
        "\n",
        "for i in range(0, len(df_kmeans)):\n",
        "  print(f\"Cluster ID : {i}\\n\")\n",
        "  print(f\"Most common words include : {list(df_kmeans['texts_count'][i])[:top_N_words]}\\n\")\n",
        "\n",
        "#tune a model by remove unwanted characters and words and add more words to a custom dictionary"
      ],
      "execution_count": 22,
      "outputs": [
        {
          "output_type": "stream",
          "name": "stdout",
          "text": [
            "Cluster ID : 0\n",
            "\n",
            "Most common words include : [('ร้านอาหาร', 14), ('อาหาร', 10), ('บ้าน', 6), ('ส้มตำ', 6), ('ซอย', 6), ('สาขา', 6), ('เพื่อน', 5), ('ไทย', 5), ('เมนู', 5), ('กาแฟ', 5)]\n",
            "\n",
            "Cluster ID : 1\n",
            "\n",
            "Most common words include : [('ร้านกาแฟ', 25), ('กาแฟ', 23), ('คาเฟ่', 6), ('น', 6), ('แวะ', 6), ('ดี', 6), ('รี่', 5), ('กา', 5), ('น่ารัก', 5), ('กร้าน', 5)]\n",
            "\n",
            "Cluster ID : 2\n",
            "\n",
            "Most common words include : [('ชานมไข่มุก', 9), ('ชา', 7), ('ไข่มุก', 5), ('เครื่องดื่ม', 4), ('น้ำ', 3), ('ตั้งอยู่', 3), ('ลอง', 3), ('เดิน', 3), ('นม', 3), ('ปั่น', 3)]\n",
            "\n"
          ]
        }
      ]
    },
    {
      "cell_type": "markdown",
      "metadata": {
        "id": "3aNJxg2ATtmK"
      },
      "source": [
        "## **Result discussion**"
      ]
    },
    {
      "cell_type": "markdown",
      "metadata": {
        "id": "cQ2SOjNKT1d7"
      },
      "source": [
        "ใช้ K-means, k = 3 คือแบ่งเป็นสามกลุ่มดังนี้\n",
        "\n",
        "กลุ่มที่ 1 เป็นกลุ่มร้านอาหาร\n",
        "\n",
        "กลุ่มที่ 2 เป็นกลุ่มร้านกาแฟ ร้านคาเฟ่ \n",
        "\n",
        "กลุ่มที่ 3 เป็นกลุ่มร้านเครื่องดื่มประเภท ชานมไข่มุก นมปั่น"
      ]
    }
  ]
}