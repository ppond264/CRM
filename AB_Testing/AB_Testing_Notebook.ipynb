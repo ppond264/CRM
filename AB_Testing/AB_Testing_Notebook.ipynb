{
  "nbformat": 4,
  "nbformat_minor": 0,
  "metadata": {
    "colab": {
      "name": "AB_Testing_Notebook.ipynb",
      "provenance": []
    },
    "kernelspec": {
      "name": "python3",
      "display_name": "Python 3"
    },
    "language_info": {
      "name": "python"
    }
  },
  "cells": [
    {
      "cell_type": "markdown",
      "source": [
        "# **Setup**"
      ],
      "metadata": {
        "id": "oBdsWT8kg-HZ"
      }
    },
    {
      "cell_type": "code",
      "metadata": {
        "colab": {
          "base_uri": "https://localhost:8080/"
        },
        "id": "xMUbQPgwTfBw",
        "outputId": "d59be44b-eb71-45b2-9acc-0d50a57dcb8a"
      },
      "source": [
        "pip install researchpy"
      ],
      "execution_count": 3,
      "outputs": [
        {
          "output_type": "stream",
          "name": "stdout",
          "text": [
            "Collecting researchpy\n",
            "  Downloading researchpy-0.3.2-py3-none-any.whl (15 kB)\n",
            "Requirement already satisfied: numpy in /usr/local/lib/python3.7/dist-packages (from researchpy) (1.19.5)\n",
            "Requirement already satisfied: scipy in /usr/local/lib/python3.7/dist-packages (from researchpy) (1.4.1)\n",
            "Requirement already satisfied: patsy in /usr/local/lib/python3.7/dist-packages (from researchpy) (0.5.2)\n",
            "Requirement already satisfied: statsmodels in /usr/local/lib/python3.7/dist-packages (from researchpy) (0.10.2)\n",
            "Requirement already satisfied: pandas in /usr/local/lib/python3.7/dist-packages (from researchpy) (1.1.5)\n",
            "Requirement already satisfied: python-dateutil>=2.7.3 in /usr/local/lib/python3.7/dist-packages (from pandas->researchpy) (2.8.2)\n",
            "Requirement already satisfied: pytz>=2017.2 in /usr/local/lib/python3.7/dist-packages (from pandas->researchpy) (2018.9)\n",
            "Requirement already satisfied: six>=1.5 in /usr/local/lib/python3.7/dist-packages (from python-dateutil>=2.7.3->pandas->researchpy) (1.15.0)\n",
            "Installing collected packages: researchpy\n",
            "Successfully installed researchpy-0.3.2\n"
          ]
        }
      ]
    },
    {
      "cell_type": "code",
      "metadata": {
        "id": "LpPRMaxJTHKx"
      },
      "source": [
        "import pandas as pd\n",
        "import researchpy as rp\n",
        "import scipy.stats as stats"
      ],
      "execution_count": 14,
      "outputs": []
    },
    {
      "cell_type": "markdown",
      "source": [
        "# **Collect & Prepare Data**"
      ],
      "metadata": {
        "id": "tJeV6fDFOffQ"
      }
    },
    {
      "cell_type": "code",
      "metadata": {
        "colab": {
          "base_uri": "https://localhost:8080/"
        },
        "id": "XZZo5Qh2TimZ",
        "outputId": "311e3870-d135-4996-99da-bc4e4991f2bd"
      },
      "source": [
        "df = pd.read_csv(\"ABTesting_Gr2_Final.csv\")\n",
        "df.info()"
      ],
      "execution_count": 24,
      "outputs": [
        {
          "output_type": "stream",
          "name": "stdout",
          "text": [
            "<class 'pandas.core.frame.DataFrame'>\n",
            "RangeIndex: 50 entries, 0 to 49\n",
            "Data columns (total 5 columns):\n",
            " #   Column                                                     Non-Null Count  Dtype \n",
            "---  ------                                                     --------------  ----- \n",
            " 0   Gender                                                     50 non-null     object\n",
            " 1   Age                                                        50 non-null     int64 \n",
            " 2   Purpose of these pens                                      50 non-null     object\n",
            " 3   Please rank the satisfaction score (5 = Very Satisfied)    50 non-null     int64 \n",
            " 4   Please rank the satisfaction score (5 = Very Satisfied).1  50 non-null     int64 \n",
            "dtypes: int64(3), object(2)\n",
            "memory usage: 2.1+ KB\n"
          ]
        }
      ]
    },
    {
      "cell_type": "markdown",
      "source": [
        "**data form questionnaire that we ask which color of pen that you like (score 1-5) and also colect gender, age and purpose of these pens.**"
      ],
      "metadata": {
        "id": "rII6z8aTh6JS"
      }
    },
    {
      "cell_type": "code",
      "metadata": {
        "id": "wJzl8Y-kTsDu"
      },
      "source": [
        "df['purpose'] = df['Purpose of these pens']\n",
        "df['orange'] = df['Please rank the satisfaction score (5 = Very Satisfied)']\n",
        "df['turquoise'] = df['Please rank the satisfaction score (5 = Very Satisfied).1']\n",
        "\n",
        "df.drop('Purpose of these pens',\n",
        "  axis='columns', inplace=True)\n",
        "df.drop('Please rank the satisfaction score (5 = Very Satisfied)',\n",
        "  axis='columns', inplace=True)\n",
        "df.drop('Please rank the satisfaction score (5 = Very Satisfied).1',\n",
        "  axis='columns', inplace=True)"
      ],
      "execution_count": 16,
      "outputs": []
    },
    {
      "cell_type": "code",
      "metadata": {
        "colab": {
          "base_uri": "https://localhost:8080/",
          "height": 206
        },
        "id": "K50s6EquVEFG",
        "outputId": "b1b026c8-638e-4693-a37e-85aeaa112649"
      },
      "source": [
        "df.head()"
      ],
      "execution_count": 17,
      "outputs": [
        {
          "output_type": "execute_result",
          "data": {
            "text/html": [
              "\n",
              "  <div id=\"df-16f7e26e-32c6-4896-9999-9f0a202b98d7\">\n",
              "    <div class=\"colab-df-container\">\n",
              "      <div>\n",
              "<style scoped>\n",
              "    .dataframe tbody tr th:only-of-type {\n",
              "        vertical-align: middle;\n",
              "    }\n",
              "\n",
              "    .dataframe tbody tr th {\n",
              "        vertical-align: top;\n",
              "    }\n",
              "\n",
              "    .dataframe thead th {\n",
              "        text-align: right;\n",
              "    }\n",
              "</style>\n",
              "<table border=\"1\" class=\"dataframe\">\n",
              "  <thead>\n",
              "    <tr style=\"text-align: right;\">\n",
              "      <th></th>\n",
              "      <th>Gender</th>\n",
              "      <th>Age</th>\n",
              "      <th>purpose</th>\n",
              "      <th>orange</th>\n",
              "      <th>turquoise</th>\n",
              "    </tr>\n",
              "  </thead>\n",
              "  <tbody>\n",
              "    <tr>\n",
              "      <th>0</th>\n",
              "      <td>Male</td>\n",
              "      <td>37</td>\n",
              "      <td>Study</td>\n",
              "      <td>3</td>\n",
              "      <td>5</td>\n",
              "    </tr>\n",
              "    <tr>\n",
              "      <th>1</th>\n",
              "      <td>Male</td>\n",
              "      <td>26</td>\n",
              "      <td>Study</td>\n",
              "      <td>1</td>\n",
              "      <td>5</td>\n",
              "    </tr>\n",
              "    <tr>\n",
              "      <th>2</th>\n",
              "      <td>Male</td>\n",
              "      <td>24</td>\n",
              "      <td>Study</td>\n",
              "      <td>5</td>\n",
              "      <td>2</td>\n",
              "    </tr>\n",
              "    <tr>\n",
              "      <th>3</th>\n",
              "      <td>Male</td>\n",
              "      <td>23</td>\n",
              "      <td>Study</td>\n",
              "      <td>2</td>\n",
              "      <td>4</td>\n",
              "    </tr>\n",
              "    <tr>\n",
              "      <th>4</th>\n",
              "      <td>Male</td>\n",
              "      <td>25</td>\n",
              "      <td>Study</td>\n",
              "      <td>3</td>\n",
              "      <td>5</td>\n",
              "    </tr>\n",
              "  </tbody>\n",
              "</table>\n",
              "</div>\n",
              "      <button class=\"colab-df-convert\" onclick=\"convertToInteractive('df-16f7e26e-32c6-4896-9999-9f0a202b98d7')\"\n",
              "              title=\"Convert this dataframe to an interactive table.\"\n",
              "              style=\"display:none;\">\n",
              "        \n",
              "  <svg xmlns=\"http://www.w3.org/2000/svg\" height=\"24px\"viewBox=\"0 0 24 24\"\n",
              "       width=\"24px\">\n",
              "    <path d=\"M0 0h24v24H0V0z\" fill=\"none\"/>\n",
              "    <path d=\"M18.56 5.44l.94 2.06.94-2.06 2.06-.94-2.06-.94-.94-2.06-.94 2.06-2.06.94zm-11 1L8.5 8.5l.94-2.06 2.06-.94-2.06-.94L8.5 2.5l-.94 2.06-2.06.94zm10 10l.94 2.06.94-2.06 2.06-.94-2.06-.94-.94-2.06-.94 2.06-2.06.94z\"/><path d=\"M17.41 7.96l-1.37-1.37c-.4-.4-.92-.59-1.43-.59-.52 0-1.04.2-1.43.59L10.3 9.45l-7.72 7.72c-.78.78-.78 2.05 0 2.83L4 21.41c.39.39.9.59 1.41.59.51 0 1.02-.2 1.41-.59l7.78-7.78 2.81-2.81c.8-.78.8-2.07 0-2.86zM5.41 20L4 18.59l7.72-7.72 1.47 1.35L5.41 20z\"/>\n",
              "  </svg>\n",
              "      </button>\n",
              "      \n",
              "  <style>\n",
              "    .colab-df-container {\n",
              "      display:flex;\n",
              "      flex-wrap:wrap;\n",
              "      gap: 12px;\n",
              "    }\n",
              "\n",
              "    .colab-df-convert {\n",
              "      background-color: #E8F0FE;\n",
              "      border: none;\n",
              "      border-radius: 50%;\n",
              "      cursor: pointer;\n",
              "      display: none;\n",
              "      fill: #1967D2;\n",
              "      height: 32px;\n",
              "      padding: 0 0 0 0;\n",
              "      width: 32px;\n",
              "    }\n",
              "\n",
              "    .colab-df-convert:hover {\n",
              "      background-color: #E2EBFA;\n",
              "      box-shadow: 0px 1px 2px rgba(60, 64, 67, 0.3), 0px 1px 3px 1px rgba(60, 64, 67, 0.15);\n",
              "      fill: #174EA6;\n",
              "    }\n",
              "\n",
              "    [theme=dark] .colab-df-convert {\n",
              "      background-color: #3B4455;\n",
              "      fill: #D2E3FC;\n",
              "    }\n",
              "\n",
              "    [theme=dark] .colab-df-convert:hover {\n",
              "      background-color: #434B5C;\n",
              "      box-shadow: 0px 1px 3px 1px rgba(0, 0, 0, 0.15);\n",
              "      filter: drop-shadow(0px 1px 2px rgba(0, 0, 0, 0.3));\n",
              "      fill: #FFFFFF;\n",
              "    }\n",
              "  </style>\n",
              "\n",
              "      <script>\n",
              "        const buttonEl =\n",
              "          document.querySelector('#df-16f7e26e-32c6-4896-9999-9f0a202b98d7 button.colab-df-convert');\n",
              "        buttonEl.style.display =\n",
              "          google.colab.kernel.accessAllowed ? 'block' : 'none';\n",
              "\n",
              "        async function convertToInteractive(key) {\n",
              "          const element = document.querySelector('#df-16f7e26e-32c6-4896-9999-9f0a202b98d7');\n",
              "          const dataTable =\n",
              "            await google.colab.kernel.invokeFunction('convertToInteractive',\n",
              "                                                     [key], {});\n",
              "          if (!dataTable) return;\n",
              "\n",
              "          const docLinkHtml = 'Like what you see? Visit the ' +\n",
              "            '<a target=\"_blank\" href=https://colab.research.google.com/notebooks/data_table.ipynb>data table notebook</a>'\n",
              "            + ' to learn more about interactive tables.';\n",
              "          element.innerHTML = '';\n",
              "          dataTable['output_type'] = 'display_data';\n",
              "          await google.colab.output.renderOutput(dataTable, element);\n",
              "          const docLink = document.createElement('div');\n",
              "          docLink.innerHTML = docLinkHtml;\n",
              "          element.appendChild(docLink);\n",
              "        }\n",
              "      </script>\n",
              "    </div>\n",
              "  </div>\n",
              "  "
            ],
            "text/plain": [
              "  Gender  Age purpose  orange  turquoise\n",
              "0   Male   37   Study       3          5\n",
              "1   Male   26   Study       1          5\n",
              "2   Male   24   Study       5          2\n",
              "3   Male   23   Study       2          4\n",
              "4   Male   25   Study       3          5"
            ]
          },
          "metadata": {},
          "execution_count": 17
        }
      ]
    },
    {
      "cell_type": "markdown",
      "source": [
        "# **Paired T-Test**"
      ],
      "metadata": {
        "id": "cw_hJzlyhHcp"
      }
    },
    {
      "cell_type": "markdown",
      "source": [
        "we use t-test to find different between orange pen and orange pen.\n",
        "After that, we try to add more condition to find more insight."
      ],
      "metadata": {
        "id": "dEH4omaVhgxb"
      }
    },
    {
      "cell_type": "code",
      "metadata": {
        "colab": {
          "base_uri": "https://localhost:8080/"
        },
        "id": "CQaI0cimTnMe",
        "outputId": "38fac051-c376-42d0-fabf-bce286592a8d"
      },
      "source": [
        "rp.ttest(group1= df['orange'], group1_name= \"orange\",\n",
        "         group2= df['turquoise'], group2_name= \"turquoise\", paired= True)"
      ],
      "execution_count": 18,
      "outputs": [
        {
          "output_type": "execute_result",
          "data": {
            "text/plain": [
              "(    Variable     N  Mean        SD        SE  95% Conf.  Interval\n",
              " 0     orange  50.0  3.14  1.195399  0.169055   2.800271  3.479729\n",
              " 1  turquoise  50.0  4.14  0.969115  0.137054   3.864581  4.415419\n",
              " 2       diff  50.0 -1.00  1.428571  0.202031  -1.405996 -0.594004,\n",
              "                 Paired samples t-test  results\n",
              " 0  Difference (orange - turquoise) =   -1.0000\n",
              " 1               Degrees of freedom =   49.0000\n",
              " 2                                t =   -4.9497\n",
              " 3            Two side test p value =    0.0000\n",
              " 4           Difference < 0 p value =    0.0000\n",
              " 5           Difference > 0 p value =    1.0000\n",
              " 6                        Cohen's d =   -0.9240\n",
              " 7                        Hedge's g =   -0.9169\n",
              " 8                    Glass's delta =   -0.8365\n",
              " 9                      Pearson's r =    0.5774)"
            ]
          },
          "metadata": {},
          "execution_count": 18
        }
      ]
    },
    {
      "cell_type": "markdown",
      "source": [
        "From T-Test, there are different between 2 colours of pens and turquoise score is more than oragne score at significant 0.01"
      ],
      "metadata": {
        "id": "qDBGo7wgPBDM"
      }
    },
    {
      "cell_type": "markdown",
      "source": [
        "## Gender effect"
      ],
      "metadata": {
        "id": "6Z8das7DOTjd"
      }
    },
    {
      "cell_type": "code",
      "metadata": {
        "colab": {
          "base_uri": "https://localhost:8080/"
        },
        "id": "JxBmVZwrW1Ee",
        "outputId": "f7687ef8-fe12-41f2-8fc7-1253c8e0c257"
      },
      "source": [
        "rp.ttest(group1= df['orange'][df['Gender'] == 'Male'], group1_name= \"orange.m\",\n",
        "         group2= df['turquoise'][df['Gender'] == 'Male'], group2_name= \"turquoise.m\")"
      ],
      "execution_count": 19,
      "outputs": [
        {
          "output_type": "execute_result",
          "data": {
            "text/plain": [
              "(      Variable     N      Mean        SD        SE  95% Conf.  Interval\n",
              " 0     orange.m  32.0  3.187500  1.119836  0.197961   2.783756  3.591244\n",
              " 1  turquoise.m  32.0  4.218750  0.870090  0.153812   3.905049  4.532451\n",
              " 2     combined  64.0  3.703125  1.122351  0.140294   3.422770  3.983480,\n",
              "                        Independent t-test  results\n",
              " 0  Difference (orange.m - turquoise.m) =   -1.0312\n",
              " 1                   Degrees of freedom =   62.0000\n",
              " 2                                    t =   -4.1136\n",
              " 3                Two side test p value =    0.0001\n",
              " 4               Difference < 0 p value =    0.0001\n",
              " 5               Difference > 0 p value =    0.9999\n",
              " 6                            Cohen's d =   -1.0284\n",
              " 7                            Hedge's g =   -1.0159\n",
              " 8                        Glass's delta =   -0.9209\n",
              " 9                          Pearson's r =    0.4630)"
            ]
          },
          "metadata": {},
          "execution_count": 19
        }
      ]
    },
    {
      "cell_type": "code",
      "metadata": {
        "colab": {
          "base_uri": "https://localhost:8080/"
        },
        "id": "VR236rCVW1b-",
        "outputId": "e8ecdfc3-099c-4bf2-bc30-a93e632b0eb3"
      },
      "source": [
        "rp.ttest(group1= df['orange'][df['Gender'] == 'Female'], group1_name= \"orange.f\",\n",
        "         group2= df['turquoise'][df['Gender'] == 'Female'], group2_name= \"turquoise.f\")"
      ],
      "execution_count": 20,
      "outputs": [
        {
          "output_type": "execute_result",
          "data": {
            "text/plain": [
              "(      Variable     N      Mean        SD        SE  95% Conf.  Interval\n",
              " 0     orange.f  18.0  3.055556  1.349171  0.318003   2.384629  3.726482\n",
              " 1  turquoise.f  18.0  4.000000  1.137593  0.268133   3.434288  4.565712\n",
              " 2     combined  36.0  3.527778  1.319873  0.219979   3.081197  3.974358,\n",
              "                        Independent t-test  results\n",
              " 0  Difference (orange.f - turquoise.f) =   -0.9444\n",
              " 1                   Degrees of freedom =   34.0000\n",
              " 2                                    t =   -2.2705\n",
              " 3                Two side test p value =    0.0296\n",
              " 4               Difference < 0 p value =    0.0148\n",
              " 5               Difference > 0 p value =    0.9852\n",
              " 6                            Cohen's d =   -0.7568\n",
              " 7                            Hedge's g =   -0.7400\n",
              " 8                        Glass's delta =   -0.7000\n",
              " 9                          Pearson's r =    0.3629)"
            ]
          },
          "metadata": {},
          "execution_count": 20
        }
      ]
    },
    {
      "cell_type": "markdown",
      "source": [
        "Gender is no effect"
      ],
      "metadata": {
        "id": "EKPIreqbO_aF"
      }
    },
    {
      "cell_type": "markdown",
      "source": [
        "## Purpose of purchasing Effect"
      ],
      "metadata": {
        "id": "zyO4GunvO3vi"
      }
    },
    {
      "cell_type": "code",
      "metadata": {
        "colab": {
          "base_uri": "https://localhost:8080/"
        },
        "id": "nVTDtDr9Yj61",
        "outputId": "1ab32ed4-6345-4f0f-bc7f-707cb47ba718"
      },
      "source": [
        "rp.ttest(group1= df['orange'][df['purpose'] == 'Study'], group1_name= \"orange.s\",\n",
        "         group2= df['turquoise'][df['purpose'] == 'Study'], group2_name= \"turquoise.s\")"
      ],
      "execution_count": 22,
      "outputs": [
        {
          "output_type": "execute_result",
          "data": {
            "text/plain": [
              "(      Variable     N      Mean        SD        SE  95% Conf.  Interval\n",
              " 0     orange.s  18.0  2.888889  1.367217  0.322256   2.208988  3.568790\n",
              " 1  turquoise.s  18.0  4.055556  1.258955  0.296739   3.429492  4.681619\n",
              " 2     combined  36.0  3.472222  1.424001  0.237333   2.990410  3.954035,\n",
              "                        Independent t-test  results\n",
              " 0  Difference (orange.s - turquoise.s) =   -1.1667\n",
              " 1                   Degrees of freedom =   34.0000\n",
              " 2                                    t =   -2.6632\n",
              " 3                Two side test p value =    0.0117\n",
              " 4               Difference < 0 p value =    0.0059\n",
              " 5               Difference > 0 p value =    0.9941\n",
              " 6                            Cohen's d =   -0.8877\n",
              " 7                            Hedge's g =   -0.8680\n",
              " 8                        Glass's delta =   -0.8533\n",
              " 9                          Pearson's r =    0.4155)"
            ]
          },
          "metadata": {},
          "execution_count": 22
        }
      ]
    },
    {
      "cell_type": "code",
      "metadata": {
        "colab": {
          "base_uri": "https://localhost:8080/"
        },
        "id": "szsvhEFMYjvO",
        "outputId": "5d9f3bd2-a0ad-41d2-d936-3ee851b28769"
      },
      "source": [
        "rp.ttest(group1= df['orange'][df['purpose'] == 'Work'], group1_name= \"orange.w\",\n",
        "         group2= df['turquoise'][df['purpose'] == 'Work'], group2_name= \"turquoise.w\")"
      ],
      "execution_count": 23,
      "outputs": [
        {
          "output_type": "execute_result",
          "data": {
            "text/plain": [
              "(      Variable     N      Mean        SD        SE  95% Conf.  Interval\n",
              " 0     orange.w  32.0  3.281250  1.084625  0.191736   2.890201  3.672299\n",
              " 1  turquoise.w  32.0  4.187500  0.780302  0.137939   3.906171  4.468829\n",
              " 2     combined  64.0  3.734375  1.042619  0.130327   3.473937  3.994813,\n",
              "                        Independent t-test  results\n",
              " 0  Difference (orange.w - turquoise.w) =   -0.9062\n",
              " 1                   Degrees of freedom =   62.0000\n",
              " 2                                    t =   -3.8368\n",
              " 3                Two side test p value =    0.0003\n",
              " 4               Difference < 0 p value =    0.0001\n",
              " 5               Difference > 0 p value =    0.9999\n",
              " 6                            Cohen's d =   -0.9592\n",
              " 7                            Hedge's g =   -0.9476\n",
              " 8                        Glass's delta =   -0.8355\n",
              " 9                          Pearson's r =    0.4380)"
            ]
          },
          "metadata": {},
          "execution_count": 23
        }
      ]
    },
    {
      "cell_type": "markdown",
      "source": [
        "purpose of purchasing is no effect"
      ],
      "metadata": {
        "id": "iOwydqjPPAIK"
      }
    },
    {
      "cell_type": "markdown",
      "source": [
        "# **Conclusion**"
      ],
      "metadata": {
        "id": "3GSDitgQhJ8B"
      }
    },
    {
      "cell_type": "markdown",
      "source": [
        "**from T-Test, we found that people like turquoise pen more than orange and purpose of purchasing and gender is no effect**"
      ],
      "metadata": {
        "id": "p21muzQHhNna"
      }
    }
  ]
}