{
  "nbformat": 4,
  "nbformat_minor": 0,
  "metadata": {
    "colab": {
      "name": "AB_Testing_Notebook.ipynb",
      "provenance": [],
      "toc_visible": true
    },
    "kernelspec": {
      "name": "python3",
      "display_name": "Python 3"
    },
    "language_info": {
      "name": "python"
    }
  },
  "cells": [
    {
      "cell_type": "markdown",
      "source": [
        "# **Preparation**"
      ],
      "metadata": {
        "id": "oBdsWT8kg-HZ"
      }
    },
    {
      "cell_type": "code",
      "metadata": {
        "colab": {
          "base_uri": "https://localhost:8080/"
        },
        "id": "xMUbQPgwTfBw",
        "outputId": "75aa29df-61fb-4650-fdfa-9c378ff7b33f"
      },
      "source": [
        "pip install researchpy"
      ],
      "execution_count": null,
      "outputs": [
        {
          "output_type": "stream",
          "name": "stdout",
          "text": [
            "Requirement already satisfied: researchpy in /usr/local/lib/python3.7/dist-packages (0.3.2)\n",
            "Requirement already satisfied: statsmodels in /usr/local/lib/python3.7/dist-packages (from researchpy) (0.10.2)\n",
            "Requirement already satisfied: numpy in /usr/local/lib/python3.7/dist-packages (from researchpy) (1.19.5)\n",
            "Requirement already satisfied: scipy in /usr/local/lib/python3.7/dist-packages (from researchpy) (1.4.1)\n",
            "Requirement already satisfied: pandas in /usr/local/lib/python3.7/dist-packages (from researchpy) (1.1.5)\n",
            "Requirement already satisfied: patsy in /usr/local/lib/python3.7/dist-packages (from researchpy) (0.5.2)\n",
            "Requirement already satisfied: python-dateutil>=2.7.3 in /usr/local/lib/python3.7/dist-packages (from pandas->researchpy) (2.8.2)\n",
            "Requirement already satisfied: pytz>=2017.2 in /usr/local/lib/python3.7/dist-packages (from pandas->researchpy) (2018.9)\n",
            "Requirement already satisfied: six>=1.5 in /usr/local/lib/python3.7/dist-packages (from python-dateutil>=2.7.3->pandas->researchpy) (1.15.0)\n"
          ]
        }
      ]
    },
    {
      "cell_type": "code",
      "metadata": {
        "id": "LpPRMaxJTHKx"
      },
      "source": [
        "import pandas as pd\n",
        "import researchpy as rp\n",
        "import scipy.stats as stats"
      ],
      "execution_count": null,
      "outputs": []
    },
    {
      "cell_type": "code",
      "metadata": {
        "colab": {
          "base_uri": "https://localhost:8080/"
        },
        "id": "XZZo5Qh2TimZ",
        "outputId": "b703235c-3aa4-4ead-cd0c-0a0d1dc869d3"
      },
      "source": [
        "df = pd.read_csv(\"/content/ABTesting_Gr2_Final.csv\")\n",
        "df.info()"
      ],
      "execution_count": null,
      "outputs": [
        {
          "output_type": "stream",
          "name": "stdout",
          "text": [
            "<class 'pandas.core.frame.DataFrame'>\n",
            "RangeIndex: 50 entries, 0 to 49\n",
            "Data columns (total 6 columns):\n",
            " #   Column                                                     Non-Null Count  Dtype \n",
            "---  ------                                                     --------------  ----- \n",
            " 0   ประทับเวลา                                                 50 non-null     object\n",
            " 1   Gender                                                     50 non-null     object\n",
            " 2   Age                                                        50 non-null     int64 \n",
            " 3   Purpose of these pens                                      50 non-null     object\n",
            " 4   Please rank the satisfaction score (5 = Very Satisfied)    50 non-null     int64 \n",
            " 5   Please rank the satisfaction score (5 = Very Satisfied).1  50 non-null     int64 \n",
            "dtypes: int64(3), object(3)\n",
            "memory usage: 2.5+ KB\n"
          ]
        }
      ]
    },
    {
      "cell_type": "markdown",
      "source": [
        "**data form questionnaire that we ask which color of pen that you like (score 1-5) and also colect gender, age and purpose of these pens.**"
      ],
      "metadata": {
        "id": "rII6z8aTh6JS"
      }
    },
    {
      "cell_type": "markdown",
      "source": [
      ],
      "metadata": {
        "id": "XNlj7dVUhEOi"
      }
    },
    {
      "cell_type": "code",
      "metadata": {
        "id": "wJzl8Y-kTsDu"
      },
      "source": [
        "df['orange'] = df['Please rank the satisfaction score (5 = Very Satisfied)']\n",
        "df['turquoise'] = df['Please rank the satisfaction score (5 = Very Satisfied).1']\n",
        "df.drop('Please rank the satisfaction score (5 = Very Satisfied)',\n",
        "  axis='columns', inplace=True)\n",
        "df.drop('Please rank the satisfaction score (5 = Very Satisfied).1',\n",
        "  axis='columns', inplace=True)\n",
        "df.drop('ประทับเวลา',\n",
        "  axis='columns', inplace=True)"
      ],
      "execution_count": null,
      "outputs": []
    },
    {
      "cell_type": "code",
      "metadata": {
        "colab": {
          "base_uri": "https://localhost:8080/",
          "height": 1000
        },
        "id": "K50s6EquVEFG",
        "outputId": "41248ca2-61d3-4099-dc1b-6073508d995c"
      },
      "source": [
        "df"
      ],
      "execution_count": null,
      "outputs": [
        {
          "output_type": "execute_result",
          "data": {
            "text/html": [
              "<div>\n",
              "<style scoped>\n",
              "    .dataframe tbody tr th:only-of-type {\n",
              "        vertical-align: middle;\n",
              "    }\n",
              "\n",
              "    .dataframe tbody tr th {\n",
              "        vertical-align: top;\n",
              "    }\n",
              "\n",
              "    .dataframe thead th {\n",
              "        text-align: right;\n",
              "    }\n",
              "</style>\n",
              "<table border=\"1\" class=\"dataframe\">\n",
              "  <thead>\n",
              "    <tr style=\"text-align: right;\">\n",
              "      <th></th>\n",
              "      <th>Gender</th>\n",
              "      <th>Age</th>\n",
              "      <th>Purpose of these pens</th>\n",
              "      <th>orange</th>\n",
              "      <th>turquoise</th>\n",
              "    </tr>\n",
              "  </thead>\n",
              "  <tbody>\n",
              "    <tr>\n",
              "      <th>0</th>\n",
              "      <td>Male</td>\n",
              "      <td>37</td>\n",
              "      <td>Study</td>\n",
              "      <td>3</td>\n",
              "      <td>5</td>\n",
              "    </tr>\n",
              "    <tr>\n",
              "      <th>1</th>\n",
              "      <td>Male</td>\n",
              "      <td>26</td>\n",
              "      <td>Study</td>\n",
              "      <td>1</td>\n",
              "      <td>5</td>\n",
              "    </tr>\n",
              "    <tr>\n",
              "      <th>2</th>\n",
              "      <td>Male</td>\n",
              "      <td>24</td>\n",
              "      <td>Study</td>\n",
              "      <td>5</td>\n",
              "      <td>2</td>\n",
              "    </tr>\n",
              "    <tr>\n",
              "      <th>3</th>\n",
              "      <td>Male</td>\n",
              "      <td>23</td>\n",
              "      <td>Study</td>\n",
              "      <td>2</td>\n",
              "      <td>4</td>\n",
              "    </tr>\n",
              "    <tr>\n",
              "      <th>4</th>\n",
              "      <td>Male</td>\n",
              "      <td>25</td>\n",
              "      <td>Study</td>\n",
              "      <td>3</td>\n",
              "      <td>5</td>\n",
              "    </tr>\n",
              "    <tr>\n",
              "      <th>5</th>\n",
              "      <td>Male</td>\n",
              "      <td>27</td>\n",
              "      <td>Work</td>\n",
              "      <td>2</td>\n",
              "      <td>4</td>\n",
              "    </tr>\n",
              "    <tr>\n",
              "      <th>6</th>\n",
              "      <td>Male</td>\n",
              "      <td>32</td>\n",
              "      <td>Work</td>\n",
              "      <td>2</td>\n",
              "      <td>5</td>\n",
              "    </tr>\n",
              "    <tr>\n",
              "      <th>7</th>\n",
              "      <td>Male</td>\n",
              "      <td>24</td>\n",
              "      <td>Work</td>\n",
              "      <td>1</td>\n",
              "      <td>5</td>\n",
              "    </tr>\n",
              "    <tr>\n",
              "      <th>8</th>\n",
              "      <td>Male</td>\n",
              "      <td>27</td>\n",
              "      <td>Study</td>\n",
              "      <td>3</td>\n",
              "      <td>5</td>\n",
              "    </tr>\n",
              "    <tr>\n",
              "      <th>9</th>\n",
              "      <td>Male</td>\n",
              "      <td>25</td>\n",
              "      <td>Study</td>\n",
              "      <td>1</td>\n",
              "      <td>5</td>\n",
              "    </tr>\n",
              "    <tr>\n",
              "      <th>10</th>\n",
              "      <td>Female</td>\n",
              "      <td>23</td>\n",
              "      <td>Study</td>\n",
              "      <td>3</td>\n",
              "      <td>3</td>\n",
              "    </tr>\n",
              "    <tr>\n",
              "      <th>11</th>\n",
              "      <td>Male</td>\n",
              "      <td>24</td>\n",
              "      <td>Work</td>\n",
              "      <td>3</td>\n",
              "      <td>4</td>\n",
              "    </tr>\n",
              "    <tr>\n",
              "      <th>12</th>\n",
              "      <td>Male</td>\n",
              "      <td>27</td>\n",
              "      <td>Work</td>\n",
              "      <td>2</td>\n",
              "      <td>4</td>\n",
              "    </tr>\n",
              "    <tr>\n",
              "      <th>13</th>\n",
              "      <td>Male</td>\n",
              "      <td>28</td>\n",
              "      <td>Work</td>\n",
              "      <td>3</td>\n",
              "      <td>5</td>\n",
              "    </tr>\n",
              "    <tr>\n",
              "      <th>14</th>\n",
              "      <td>Male</td>\n",
              "      <td>23</td>\n",
              "      <td>Work</td>\n",
              "      <td>5</td>\n",
              "      <td>5</td>\n",
              "    </tr>\n",
              "    <tr>\n",
              "      <th>15</th>\n",
              "      <td>Male</td>\n",
              "      <td>24</td>\n",
              "      <td>Work</td>\n",
              "      <td>3</td>\n",
              "      <td>4</td>\n",
              "    </tr>\n",
              "    <tr>\n",
              "      <th>16</th>\n",
              "      <td>Male</td>\n",
              "      <td>25</td>\n",
              "      <td>Study</td>\n",
              "      <td>4</td>\n",
              "      <td>4</td>\n",
              "    </tr>\n",
              "    <tr>\n",
              "      <th>17</th>\n",
              "      <td>Male</td>\n",
              "      <td>42</td>\n",
              "      <td>Work</td>\n",
              "      <td>3</td>\n",
              "      <td>3</td>\n",
              "    </tr>\n",
              "    <tr>\n",
              "      <th>18</th>\n",
              "      <td>Female</td>\n",
              "      <td>23</td>\n",
              "      <td>Study</td>\n",
              "      <td>4</td>\n",
              "      <td>5</td>\n",
              "    </tr>\n",
              "    <tr>\n",
              "      <th>19</th>\n",
              "      <td>Female</td>\n",
              "      <td>25</td>\n",
              "      <td>Study</td>\n",
              "      <td>4</td>\n",
              "      <td>5</td>\n",
              "    </tr>\n",
              "    <tr>\n",
              "      <th>20</th>\n",
              "      <td>Male</td>\n",
              "      <td>25</td>\n",
              "      <td>Work</td>\n",
              "      <td>4</td>\n",
              "      <td>4</td>\n",
              "    </tr>\n",
              "    <tr>\n",
              "      <th>21</th>\n",
              "      <td>Male</td>\n",
              "      <td>23</td>\n",
              "      <td>Work</td>\n",
              "      <td>5</td>\n",
              "      <td>5</td>\n",
              "    </tr>\n",
              "    <tr>\n",
              "      <th>22</th>\n",
              "      <td>Male</td>\n",
              "      <td>22</td>\n",
              "      <td>Work</td>\n",
              "      <td>4</td>\n",
              "      <td>3</td>\n",
              "    </tr>\n",
              "    <tr>\n",
              "      <th>23</th>\n",
              "      <td>Male</td>\n",
              "      <td>39</td>\n",
              "      <td>Work</td>\n",
              "      <td>4</td>\n",
              "      <td>4</td>\n",
              "    </tr>\n",
              "    <tr>\n",
              "      <th>24</th>\n",
              "      <td>Female</td>\n",
              "      <td>24</td>\n",
              "      <td>Work</td>\n",
              "      <td>1</td>\n",
              "      <td>5</td>\n",
              "    </tr>\n",
              "    <tr>\n",
              "      <th>25</th>\n",
              "      <td>Female</td>\n",
              "      <td>27</td>\n",
              "      <td>Work</td>\n",
              "      <td>3</td>\n",
              "      <td>3</td>\n",
              "    </tr>\n",
              "    <tr>\n",
              "      <th>26</th>\n",
              "      <td>Female</td>\n",
              "      <td>24</td>\n",
              "      <td>Work</td>\n",
              "      <td>5</td>\n",
              "      <td>4</td>\n",
              "    </tr>\n",
              "    <tr>\n",
              "      <th>27</th>\n",
              "      <td>Female</td>\n",
              "      <td>23</td>\n",
              "      <td>Study</td>\n",
              "      <td>5</td>\n",
              "      <td>5</td>\n",
              "    </tr>\n",
              "    <tr>\n",
              "      <th>28</th>\n",
              "      <td>Male</td>\n",
              "      <td>39</td>\n",
              "      <td>Work</td>\n",
              "      <td>4</td>\n",
              "      <td>4</td>\n",
              "    </tr>\n",
              "    <tr>\n",
              "      <th>29</th>\n",
              "      <td>Female</td>\n",
              "      <td>23</td>\n",
              "      <td>Work</td>\n",
              "      <td>4</td>\n",
              "      <td>5</td>\n",
              "    </tr>\n",
              "    <tr>\n",
              "      <th>30</th>\n",
              "      <td>Female</td>\n",
              "      <td>24</td>\n",
              "      <td>Work</td>\n",
              "      <td>5</td>\n",
              "      <td>5</td>\n",
              "    </tr>\n",
              "    <tr>\n",
              "      <th>31</th>\n",
              "      <td>Male</td>\n",
              "      <td>24</td>\n",
              "      <td>Work</td>\n",
              "      <td>4</td>\n",
              "      <td>5</td>\n",
              "    </tr>\n",
              "    <tr>\n",
              "      <th>32</th>\n",
              "      <td>Male</td>\n",
              "      <td>23</td>\n",
              "      <td>Work</td>\n",
              "      <td>3</td>\n",
              "      <td>3</td>\n",
              "    </tr>\n",
              "    <tr>\n",
              "      <th>33</th>\n",
              "      <td>Female</td>\n",
              "      <td>25</td>\n",
              "      <td>Study</td>\n",
              "      <td>1</td>\n",
              "      <td>1</td>\n",
              "    </tr>\n",
              "    <tr>\n",
              "      <th>34</th>\n",
              "      <td>Female</td>\n",
              "      <td>24</td>\n",
              "      <td>Work</td>\n",
              "      <td>3</td>\n",
              "      <td>5</td>\n",
              "    </tr>\n",
              "    <tr>\n",
              "      <th>35</th>\n",
              "      <td>Male</td>\n",
              "      <td>25</td>\n",
              "      <td>Work</td>\n",
              "      <td>3</td>\n",
              "      <td>4</td>\n",
              "    </tr>\n",
              "    <tr>\n",
              "      <th>36</th>\n",
              "      <td>Male</td>\n",
              "      <td>37</td>\n",
              "      <td>Work</td>\n",
              "      <td>4</td>\n",
              "      <td>5</td>\n",
              "    </tr>\n",
              "    <tr>\n",
              "      <th>37</th>\n",
              "      <td>Female</td>\n",
              "      <td>29</td>\n",
              "      <td>Study</td>\n",
              "      <td>1</td>\n",
              "      <td>3</td>\n",
              "    </tr>\n",
              "    <tr>\n",
              "      <th>38</th>\n",
              "      <td>Male</td>\n",
              "      <td>27</td>\n",
              "      <td>Work</td>\n",
              "      <td>4</td>\n",
              "      <td>2</td>\n",
              "    </tr>\n",
              "    <tr>\n",
              "      <th>39</th>\n",
              "      <td>Female</td>\n",
              "      <td>23</td>\n",
              "      <td>Study</td>\n",
              "      <td>2</td>\n",
              "      <td>3</td>\n",
              "    </tr>\n",
              "    <tr>\n",
              "      <th>40</th>\n",
              "      <td>Male</td>\n",
              "      <td>21</td>\n",
              "      <td>Work</td>\n",
              "      <td>3</td>\n",
              "      <td>5</td>\n",
              "    </tr>\n",
              "    <tr>\n",
              "      <th>41</th>\n",
              "      <td>Female</td>\n",
              "      <td>24</td>\n",
              "      <td>Work</td>\n",
              "      <td>2</td>\n",
              "      <td>4</td>\n",
              "    </tr>\n",
              "    <tr>\n",
              "      <th>42</th>\n",
              "      <td>Female</td>\n",
              "      <td>23</td>\n",
              "      <td>Study</td>\n",
              "      <td>2</td>\n",
              "      <td>3</td>\n",
              "    </tr>\n",
              "    <tr>\n",
              "      <th>43</th>\n",
              "      <td>Female</td>\n",
              "      <td>27</td>\n",
              "      <td>Work</td>\n",
              "      <td>3</td>\n",
              "      <td>4</td>\n",
              "    </tr>\n",
              "    <tr>\n",
              "      <th>44</th>\n",
              "      <td>Male</td>\n",
              "      <td>24</td>\n",
              "      <td>Study</td>\n",
              "      <td>4</td>\n",
              "      <td>5</td>\n",
              "    </tr>\n",
              "    <tr>\n",
              "      <th>45</th>\n",
              "      <td>Male</td>\n",
              "      <td>26</td>\n",
              "      <td>Work</td>\n",
              "      <td>4</td>\n",
              "      <td>4</td>\n",
              "    </tr>\n",
              "    <tr>\n",
              "      <th>46</th>\n",
              "      <td>Male</td>\n",
              "      <td>24</td>\n",
              "      <td>Work</td>\n",
              "      <td>2</td>\n",
              "      <td>4</td>\n",
              "    </tr>\n",
              "    <tr>\n",
              "      <th>47</th>\n",
              "      <td>Male</td>\n",
              "      <td>23</td>\n",
              "      <td>Work</td>\n",
              "      <td>4</td>\n",
              "      <td>4</td>\n",
              "    </tr>\n",
              "    <tr>\n",
              "      <th>48</th>\n",
              "      <td>Female</td>\n",
              "      <td>28</td>\n",
              "      <td>Work</td>\n",
              "      <td>3</td>\n",
              "      <td>4</td>\n",
              "    </tr>\n",
              "    <tr>\n",
              "      <th>49</th>\n",
              "      <td>Female</td>\n",
              "      <td>25</td>\n",
              "      <td>Study</td>\n",
              "      <td>4</td>\n",
              "      <td>5</td>\n",
              "    </tr>\n",
              "  </tbody>\n",
              "</table>\n",
              "</div>"
            ],
            "text/plain": [
              "    Gender  Age Purpose of these pens  orange  turquoise\n",
              "0     Male   37                 Study       3          5\n",
              "1     Male   26                 Study       1          5\n",
              "2     Male   24                 Study       5          2\n",
              "3     Male   23                 Study       2          4\n",
              "4     Male   25                 Study       3          5\n",
              "5     Male   27                  Work       2          4\n",
              "6     Male   32                  Work       2          5\n",
              "7     Male   24                  Work       1          5\n",
              "8     Male   27                 Study       3          5\n",
              "9     Male   25                 Study       1          5\n",
              "10  Female   23                 Study       3          3\n",
              "11    Male   24                  Work       3          4\n",
              "12    Male   27                  Work       2          4\n",
              "13    Male   28                  Work       3          5\n",
              "14    Male   23                  Work       5          5\n",
              "15    Male   24                  Work       3          4\n",
              "16    Male   25                 Study       4          4\n",
              "17    Male   42                  Work       3          3\n",
              "18  Female   23                 Study       4          5\n",
              "19  Female   25                 Study       4          5\n",
              "20    Male   25                  Work       4          4\n",
              "21    Male   23                  Work       5          5\n",
              "22    Male   22                  Work       4          3\n",
              "23    Male   39                  Work       4          4\n",
              "24  Female   24                  Work       1          5\n",
              "25  Female   27                  Work       3          3\n",
              "26  Female   24                  Work       5          4\n",
              "27  Female   23                 Study       5          5\n",
              "28    Male   39                  Work       4          4\n",
              "29  Female   23                  Work       4          5\n",
              "30  Female   24                  Work       5          5\n",
              "31    Male   24                  Work       4          5\n",
              "32    Male   23                  Work       3          3\n",
              "33  Female   25                 Study       1          1\n",
              "34  Female   24                  Work       3          5\n",
              "35    Male   25                  Work       3          4\n",
              "36    Male   37                  Work       4          5\n",
              "37  Female   29                 Study       1          3\n",
              "38    Male   27                  Work       4          2\n",
              "39  Female   23                 Study       2          3\n",
              "40    Male   21                  Work       3          5\n",
              "41  Female   24                  Work       2          4\n",
              "42  Female   23                 Study       2          3\n",
              "43  Female   27                  Work       3          4\n",
              "44    Male   24                 Study       4          5\n",
              "45    Male   26                  Work       4          4\n",
              "46    Male   24                  Work       2          4\n",
              "47    Male   23                  Work       4          4\n",
              "48  Female   28                  Work       3          4\n",
              "49  Female   25                 Study       4          5"
            ]
          },
          "metadata": {},
          "execution_count": 62
        }
      ]
    },
    {
      "cell_type": "markdown",
      "source": [
        "# T-TEST!"
      ],
      "metadata": {
        "id": "cw_hJzlyhHcp"
      }
    },
    {
      "cell_type": "markdown",
      "source": [
        "we use t-test to find different between orange pen and orange pen.\n",
        "After that, we try to add more condition to find more insight."
      ],
      "metadata": {
        "id": "dEH4omaVhgxb"
      }
    },
    {
      "cell_type": "code",
      "metadata": {
        "colab": {
          "base_uri": "https://localhost:8080/"
        },
        "id": "CQaI0cimTnMe",
        "outputId": "3c68b986-fa3f-47e4-a1d9-30cbcf904bd2"
      },
      "source": [
        "rp.ttest(group1= df['orange'], group1_name= \"orange\",\n",
        "         group2= df['turquoise'], group2_name= \"turquoise\", paired= True)"
      ],
      "execution_count": null,
      "outputs": [
        {
          "output_type": "execute_result",
          "data": {
            "text/plain": [
              "(    Variable     N  Mean        SD        SE  95% Conf.  Interval\n",
              " 0     orange  50.0  3.14  1.195399  0.169055   2.800271  3.479729\n",
              " 1  turquoise  50.0  4.14  0.969115  0.137054   3.864581  4.415419\n",
              " 2       diff  50.0 -1.00  1.428571  0.202031  -1.405996 -0.594004,\n",
              "                 Paired samples t-test  results\n",
              " 0  Difference (orange - turquoise) =   -1.0000\n",
              " 1               Degrees of freedom =   49.0000\n",
              " 2                                t =   -4.9497\n",
              " 3            Two side test p value =    0.0000\n",
              " 4           Difference < 0 p value =    0.0000\n",
              " 5           Difference > 0 p value =    1.0000\n",
              " 6                        Cohen's d =   -0.9240\n",
              " 7                        Hedge's g =   -0.9169\n",
              " 8                    Glass's delta =   -0.8365\n",
              " 9                      Pearson's r =    0.5774)"
            ]
          },
          "metadata": {},
          "execution_count": 59
        }
      ]
    },
    {
      "cell_type": "code",
      "metadata": {
        "colab": {
          "base_uri": "https://localhost:8080/"
        },
        "id": "JxBmVZwrW1Ee",
        "outputId": "74654dc3-4ebf-41e1-d067-5b8d7d2c9b22"
      },
      "source": [
        "rp.ttest(group1= df['orange'][df['Gender'] == 'Male'], group1_name= \"orange.m\",\n",
        "         group2= df['orange'][df['Gender'] == 'Female'], group2_name= \"orange.f\")"
      ],
      "execution_count": null,
      "outputs": [
        {
          "output_type": "execute_result",
          "data": {
            "text/plain": [
              "(   Variable     N      Mean        SD        SE  95% Conf.  Interval\n",
              " 0  orange.m  32.0  3.187500  1.119836  0.197961   2.783756  3.591244\n",
              " 1  orange.f  18.0  3.055556  1.349171  0.318003   2.384629  3.726482\n",
              " 2  combined  50.0  3.140000  1.195399  0.169055   2.800271  3.479729,\n",
              "                     Independent t-test  results\n",
              " 0  Difference (orange.m - orange.f) =    0.1319\n",
              " 1                Degrees of freedom =   48.0000\n",
              " 2                                 t =    0.3713\n",
              " 3             Two side test p value =    0.7120\n",
              " 4            Difference < 0 p value =    0.6440\n",
              " 5            Difference > 0 p value =    0.3560\n",
              " 6                         Cohen's d =    0.1094\n",
              " 7                         Hedge's g =    0.1077\n",
              " 8                     Glass's delta =    0.1178\n",
              " 9                       Pearson's r =    0.0535)"
            ]
          },
          "metadata": {},
          "execution_count": 60
        }
      ]
    },
    {
      "cell_type": "code",
      "metadata": {
        "colab": {
          "base_uri": "https://localhost:8080/"
        },
        "id": "VR236rCVW1b-",
        "outputId": "12d9ae85-9e0b-497a-8d86-42424eecb9eb"
      },
      "source": [
        "rp.ttest(group1= df['turquoise'][df['Gender'] == 'Male'], group1_name= \"turquoise.m\",\n",
        "         group2= df['turquoise'][df['Gender'] == 'Female'], group2_name= \"turquoise.f\")"
      ],
      "execution_count": null,
      "outputs": [
        {
          "output_type": "execute_result",
          "data": {
            "text/plain": [
              "(      Variable     N     Mean        SD        SE  95% Conf.  Interval\n",
              " 0  turquoise.m  32.0  4.21875  0.870090  0.153812   3.905049  4.532451\n",
              " 1  turquoise.f  18.0  4.00000  1.137593  0.268133   3.434288  4.565712\n",
              " 2     combined  50.0  4.14000  0.969115  0.137054   3.864581  4.415419,\n",
              "                           Independent t-test  results\n",
              " 0  Difference (turquoise.m - turquoise.f) =    0.2188\n",
              " 1                      Degrees of freedom =   48.0000\n",
              " 2                                       t =    0.7628\n",
              " 3                   Two side test p value =    0.4493\n",
              " 4                  Difference < 0 p value =    0.7754\n",
              " 5                  Difference > 0 p value =    0.2246\n",
              " 6                               Cohen's d =    0.2248\n",
              " 7                               Hedge's g =    0.2212\n",
              " 8                           Glass's delta =    0.2514\n",
              " 9                             Pearson's r =    0.1094)"
            ]
          },
          "metadata": {},
          "execution_count": 61
        }
      ]
    },
    {
      "cell_type": "code",
      "metadata": {
        "colab": {
          "base_uri": "https://localhost:8080/"
        },
        "id": "nVTDtDr9Yj61",
        "outputId": "9e86abb6-0f30-443e-a5a5-9b6d251124c7"
      },
      "source": [
        "rp.ttest(group1= df['orange'][df['Purpose of these pens'] == 'Study'], group1_name= \"orange.s\",\n",
        "         group2= df['orange'][df['Purpose of these pens'] == 'Work'], group2_name= \"orange.w\")"
      ],
      "execution_count": null,
      "outputs": [
        {
          "output_type": "execute_result",
          "data": {
            "text/plain": [
              "(   Variable     N      Mean        SD        SE  95% Conf.  Interval\n",
              " 0  orange.s  18.0  2.888889  1.367217  0.322256   2.208988  3.568790\n",
              " 1  orange.w  32.0  3.281250  1.084625  0.191736   2.890201  3.672299\n",
              " 2  combined  50.0  3.140000  1.195399  0.169055   2.800271  3.479729,\n",
              "                     Independent t-test  results\n",
              " 0  Difference (orange.s - orange.w) =   -0.3924\n",
              " 1                Degrees of freedom =   48.0000\n",
              " 2                                 t =   -1.1168\n",
              " 3             Two side test p value =    0.2696\n",
              " 4            Difference < 0 p value =    0.1348\n",
              " 5            Difference > 0 p value =    0.8652\n",
              " 6                         Cohen's d =   -0.3291\n",
              " 7                         Hedge's g =   -0.3239\n",
              " 8                     Glass's delta =   -0.2870\n",
              " 9                       Pearson's r =    0.1591)"
            ]
          },
          "metadata": {},
          "execution_count": 63
        }
      ]
    },
    {
      "cell_type": "code",
      "metadata": {
        "colab": {
          "base_uri": "https://localhost:8080/"
        },
        "id": "szsvhEFMYjvO",
        "outputId": "631a1f04-a2eb-4df1-8252-59fb9e72ef4f"
      },
      "source": [
        "rp.ttest(group1= df['turquoise'][df['Purpose of these pens'] == 'Study'], group1_name= \"turquoise.s\",\n",
        "         group2= df['turquoise'][df['Purpose of these pens'] == 'Work'], group2_name= \"turquoise.w\")"
      ],
      "execution_count": null,
      "outputs": [
        {
          "output_type": "execute_result",
          "data": {
            "text/plain": [
              "(      Variable     N      Mean        SD        SE  95% Conf.  Interval\n",
              " 0  turquoise.s  18.0  4.055556  1.258955  0.296739   3.429492  4.681619\n",
              " 1  turquoise.w  32.0  4.187500  0.780302  0.137939   3.906171  4.468829\n",
              " 2     combined  50.0  4.140000  0.969115  0.137054   3.864581  4.415419,\n",
              "                           Independent t-test  results\n",
              " 0  Difference (turquoise.s - turquoise.w) =   -0.1319\n",
              " 1                      Degrees of freedom =   48.0000\n",
              " 2                                       t =   -0.4584\n",
              " 3                   Two side test p value =    0.6488\n",
              " 4                  Difference < 0 p value =    0.3244\n",
              " 5                  Difference > 0 p value =    0.6756\n",
              " 6                               Cohen's d =   -0.1350\n",
              " 7                               Hedge's g =   -0.1329\n",
              " 8                           Glass's delta =   -0.1048\n",
              " 9                             Pearson's r =    0.0660)"
            ]
          },
          "metadata": {},
          "execution_count": 64
        }
      ]
    },
    {
      "cell_type": "markdown",
      "source": [
        "# **Conclusion**"
      ],
      "metadata": {
        "id": "3GSDitgQhJ8B"
      }
    },
    {
      "cell_type": "markdown",
      "source": [
        "**from T-Test, we found that people like turquoise pen more than orange significant at 0.01**"
      ],
      "metadata": {
        "id": "p21muzQHhNna"
      }
    }
  ]
}
